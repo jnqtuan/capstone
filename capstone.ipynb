{
 "cells": [
  {
   "cell_type": "markdown",
   "id": "e60cb604",
   "metadata": {},
   "source": [
    "# Tuan Nguyen, Utica College MSDS, Fall 2021 DSC 680 Capstone"
   ]
  },
  {
   "cell_type": "markdown",
   "id": "ba9e2ce4",
   "metadata": {},
   "source": [
    "# Import Dataset"
   ]
  },
  {
   "cell_type": "code",
   "execution_count": 1,
   "id": "01f7a95d",
   "metadata": {},
   "outputs": [],
   "source": [
    "import pandas as pd\n",
    "import numpy as np\n",
    "import warnings\n",
    "warnings.filterwarnings('ignore')"
   ]
  },
  {
   "cell_type": "raw",
   "id": "abd58c72",
   "metadata": {},
   "source": [
    "import h5py\n",
    "\n",
    "W = []\n",
    "dkeys = []\n",
    "\n",
    "with h5py.File('C:/Users/cg/Documents/RadComDynamic.hdf5', 'r') as f:\n",
    "    for key in f.keys():\n",
    "        dkeys.append(key)\n",
    "        W.append(f[key][:])\n",
    "f.close()\n",
    "\n",
    "# Instead of processing the large hdf5 file everytime, we'll import the file once then save the data to our disk for faster \n",
    "data load times when starting up Jupyter Notebook.\n",
    "\n",
    "np.save('C:/Users/cg/Documents/inputs.npy', W)\n",
    "np.save('C:/Users/cg/Documents/labels.npy', dkeys)"
   ]
  },
  {
   "cell_type": "code",
   "execution_count": 2,
   "id": "9229c26e",
   "metadata": {},
   "outputs": [],
   "source": [
    "# Load data \n",
    "\n",
    "labels = pd.DataFrame(np.load('C:/Users/cg/Documents/labels.npy', mmap_mode=None, allow_pickle=False))\n",
    "inputs = pd.DataFrame(np.load('C:/Users/cg/Documents/inputs.npy', mmap_mode=None, allow_pickle=False))\n",
    "iq = pd.DataFrame(np.load('C:/Users/cg/Documents/iq.npy', mmap_mode=None, allow_pickle=True))"
   ]
  },
  {
   "cell_type": "code",
   "execution_count": 3,
   "id": "df23bb5e",
   "metadata": {},
   "outputs": [
    {
     "data": {
      "text/html": [
       "<div>\n",
       "<style scoped>\n",
       "    .dataframe tbody tr th:only-of-type {\n",
       "        vertical-align: middle;\n",
       "    }\n",
       "\n",
       "    .dataframe tbody tr th {\n",
       "        vertical-align: top;\n",
       "    }\n",
       "\n",
       "    .dataframe thead th {\n",
       "        text-align: right;\n",
       "    }\n",
       "</style>\n",
       "<table border=\"1\" class=\"dataframe\">\n",
       "  <thead>\n",
       "    <tr style=\"text-align: right;\">\n",
       "      <th></th>\n",
       "      <th>0</th>\n",
       "    </tr>\n",
       "  </thead>\n",
       "  <tbody>\n",
       "    <tr>\n",
       "      <th>0</th>\n",
       "      <td>('amdsb', 'AM radio', -10, 0)</td>\n",
       "    </tr>\n",
       "    <tr>\n",
       "      <th>1</th>\n",
       "      <td>('amdsb', 'AM radio', -10, 1)</td>\n",
       "    </tr>\n",
       "    <tr>\n",
       "      <th>2</th>\n",
       "      <td>('amdsb', 'AM radio', -10, 10)</td>\n",
       "    </tr>\n",
       "    <tr>\n",
       "      <th>3</th>\n",
       "      <td>('amdsb', 'AM radio', -10, 100)</td>\n",
       "    </tr>\n",
       "    <tr>\n",
       "      <th>4</th>\n",
       "      <td>('amdsb', 'AM radio', -10, 101)</td>\n",
       "    </tr>\n",
       "  </tbody>\n",
       "</table>\n",
       "</div>"
      ],
      "text/plain": [
       "                                 0\n",
       "0    ('amdsb', 'AM radio', -10, 0)\n",
       "1    ('amdsb', 'AM radio', -10, 1)\n",
       "2   ('amdsb', 'AM radio', -10, 10)\n",
       "3  ('amdsb', 'AM radio', -10, 100)\n",
       "4  ('amdsb', 'AM radio', -10, 101)"
      ]
     },
     "execution_count": 3,
     "metadata": {},
     "output_type": "execute_result"
    }
   ],
   "source": [
    "labels.head()"
   ]
  },
  {
   "cell_type": "markdown",
   "id": "f72d76b5",
   "metadata": {},
   "source": [
    "## \n",
    "# Data Wrangling & Exploratory Data Analysis"
   ]
  },
  {
   "cell_type": "code",
   "execution_count": 4,
   "id": "97e688e9",
   "metadata": {},
   "outputs": [
    {
     "name": "stdout",
     "output_type": "stream",
     "text": [
      "labels data type: <class 'pandas.core.frame.DataFrame'>\n",
      "labels shape: (125361, 1) \n",
      "\n",
      "iq data type: <class 'pandas.core.frame.DataFrame'>\n",
      "iq shape: (125361, 3)\n"
     ]
    }
   ],
   "source": [
    "print('labels data type:', type(labels))\n",
    "print('labels shape:', np.shape(labels), '\\n')\n",
    "\n",
    "print('iq data type:', type(iq))\n",
    "print('iq shape:', np.shape(iq))"
   ]
  },
  {
   "cell_type": "code",
   "execution_count": 5,
   "id": "d8a9e62b",
   "metadata": {},
   "outputs": [],
   "source": [
    "# Create a dataframe where the labels are split into four seperate columns. Remove any unnecessary characters.\n",
    "\n",
    "labels_df = labels[0].str.split(',', expand=True)\n",
    "labels_df[0] = labels_df[0].str.replace('(','')\n",
    "labels_df[0] = labels_df[0].str.replace('(','')\n",
    "labels_df[0] = labels_df[0].str.replace(\"'\",'')\n",
    "labels_df[1] = labels_df[1].str.replace(\"'\",'')\n",
    "labels_df[3] = labels_df[3].str.replace(')','')\n",
    "\n",
    "\n",
    "# Create a column in the dataframe that contains the original label\n",
    "labels_df['original'] = labels\n",
    "\n",
    "# Rename the columns so it's clear\n",
    "labels_df = labels_df.rename(columns={0: 'modulation_class', \n",
    "                                      1: 'signal_class',\n",
    "                                      2: 'snr',\n",
    "                                      3: 'sample_number'})"
   ]
  },
  {
   "cell_type": "code",
   "execution_count": 6,
   "id": "b8a7c1cd",
   "metadata": {},
   "outputs": [
    {
     "data": {
      "text/html": [
       "<div>\n",
       "<style scoped>\n",
       "    .dataframe tbody tr th:only-of-type {\n",
       "        vertical-align: middle;\n",
       "    }\n",
       "\n",
       "    .dataframe tbody tr th {\n",
       "        vertical-align: top;\n",
       "    }\n",
       "\n",
       "    .dataframe thead th {\n",
       "        text-align: right;\n",
       "    }\n",
       "</style>\n",
       "<table border=\"1\" class=\"dataframe\">\n",
       "  <thead>\n",
       "    <tr style=\"text-align: right;\">\n",
       "      <th></th>\n",
       "      <th>modulation_class</th>\n",
       "      <th>signal_class</th>\n",
       "      <th>snr</th>\n",
       "      <th>sample_number</th>\n",
       "      <th>original</th>\n",
       "    </tr>\n",
       "  </thead>\n",
       "  <tbody>\n",
       "    <tr>\n",
       "      <th>0</th>\n",
       "      <td>amdsb</td>\n",
       "      <td>AM radio</td>\n",
       "      <td>-10</td>\n",
       "      <td>0</td>\n",
       "      <td>('amdsb', 'AM radio', -10, 0)</td>\n",
       "    </tr>\n",
       "    <tr>\n",
       "      <th>1</th>\n",
       "      <td>amdsb</td>\n",
       "      <td>AM radio</td>\n",
       "      <td>-10</td>\n",
       "      <td>1</td>\n",
       "      <td>('amdsb', 'AM radio', -10, 1)</td>\n",
       "    </tr>\n",
       "    <tr>\n",
       "      <th>2</th>\n",
       "      <td>amdsb</td>\n",
       "      <td>AM radio</td>\n",
       "      <td>-10</td>\n",
       "      <td>10</td>\n",
       "      <td>('amdsb', 'AM radio', -10, 10)</td>\n",
       "    </tr>\n",
       "  </tbody>\n",
       "</table>\n",
       "</div>"
      ],
      "text/plain": [
       "  modulation_class signal_class   snr sample_number  \\\n",
       "0            amdsb     AM radio   -10             0   \n",
       "1            amdsb     AM radio   -10             1   \n",
       "2            amdsb     AM radio   -10            10   \n",
       "\n",
       "                         original  \n",
       "0   ('amdsb', 'AM radio', -10, 0)  \n",
       "1   ('amdsb', 'AM radio', -10, 1)  \n",
       "2  ('amdsb', 'AM radio', -10, 10)  "
      ]
     },
     "execution_count": 6,
     "metadata": {},
     "output_type": "execute_result"
    }
   ],
   "source": [
    "labels_df.head(3)"
   ]
  },
  {
   "cell_type": "code",
   "execution_count": 7,
   "id": "e2b90188",
   "metadata": {},
   "outputs": [],
   "source": [
    "# Create a data frame containing the full IQ signal, the I/Q components split into its respective columns, and each 256 values in its own column. Who knows what you'll need....\n",
    "\n",
    "iq_df = iq\n",
    "\n",
    "# Rearrange iq data columns so full IQ sample is first, followed by I, then Q\n",
    "iq_df = iq_df[[2,0,1]]\n",
    "\n",
    "iq_df = iq_df.rename(columns={2: 'iq_sig', \n",
    "                              0: 'i_comp',\n",
    "                              1: 'q_comp'})\n",
    "\n",
    "# Combine iq df with inputs df\n",
    "iq_df = pd.concat([iq_df.reset_index(drop=True), inputs.reset_index(drop=True)], axis=1)"
   ]
  },
  {
   "cell_type": "code",
   "execution_count": 8,
   "id": "a772dfa9",
   "metadata": {},
   "outputs": [
    {
     "name": "stdout",
     "output_type": "stream",
     "text": [
      "inputs data type: <class 'pandas.core.frame.DataFrame'>\n",
      "inputs shape: (125361, 264)\n"
     ]
    }
   ],
   "source": [
    "# Create a combined data frame.\n",
    "rfdf = pd.concat([labels_df.reset_index(drop=True), iq_df.reset_index(drop=True)], axis=1)\n",
    "\n",
    "print('inputs data type:', type(rfdf))\n",
    "print('inputs shape:', np.shape(rfdf))"
   ]
  },
  {
   "cell_type": "code",
   "execution_count": 9,
   "id": "9c983ab7",
   "metadata": {},
   "outputs": [
    {
     "name": "stdout",
     "output_type": "stream",
     "text": [
      "modulation_class is type: <class 'str'>\n",
      "signal_class is type: <class 'str'>\n",
      "snr is type: <class 'str'>\n",
      "sample_number is type: <class 'str'>\n",
      "original is type: <class 'str'>\n",
      "iq_sig is type: <class 'numpy.ndarray'>\n",
      "i_comp is type: <class 'numpy.ndarray'>\n",
      "q_comp is type: <class 'numpy.ndarray'>\n",
      "iq values are type: <class 'numpy.float32'>\n"
     ]
    }
   ],
   "source": [
    "# Check data types\n",
    "\n",
    "print('modulation_class is type:', type(rfdf['modulation_class'][0]))\n",
    "print('signal_class is type:', type(rfdf['signal_class'][0]))\n",
    "print('snr is type:', type(rfdf['snr'][0]))\n",
    "print('sample_number is type:', type(rfdf['sample_number'][0]))\n",
    "print('original is type:', type(rfdf['original'][0]))\n",
    "print('iq_sig is type:', type(rfdf['iq_sig'][0]))\n",
    "print('i_comp is type:', type(rfdf['i_comp'][0]))\n",
    "print('q_comp is type:', type(rfdf['q_comp'][0]))\n",
    "print('iq values are type:', type(rfdf[0][0]))"
   ]
  },
  {
   "cell_type": "code",
   "execution_count": 10,
   "id": "6a303b19",
   "metadata": {},
   "outputs": [],
   "source": [
    "# Convert data types where necessary\n",
    "\n",
    "rfdf['snr'] = rfdf['snr'].astype('int')\n",
    "rfdf['sample_number'] = rfdf['sample_number'].astype('int')"
   ]
  },
  {
   "cell_type": "code",
   "execution_count": 11,
   "id": "2b841501",
   "metadata": {},
   "outputs": [
    {
     "name": "stdout",
     "output_type": "stream",
     "text": [
      "snr is type: <class 'numpy.int32'>\n",
      "sample_number is type: <class 'numpy.int32'>\n"
     ]
    }
   ],
   "source": [
    "# Check data types again to confirm type has been updated\n",
    "\n",
    "print('snr is type:', type(rfdf['snr'][0]))\n",
    "print('sample_number is type:', type(rfdf['sample_number'][0]))"
   ]
  },
  {
   "cell_type": "code",
   "execution_count": 12,
   "id": "2b7a4874",
   "metadata": {},
   "outputs": [
    {
     "data": {
      "text/html": [
       "<div>\n",
       "<style scoped>\n",
       "    .dataframe tbody tr th:only-of-type {\n",
       "        vertical-align: middle;\n",
       "    }\n",
       "\n",
       "    .dataframe tbody tr th {\n",
       "        vertical-align: top;\n",
       "    }\n",
       "\n",
       "    .dataframe thead th {\n",
       "        text-align: right;\n",
       "    }\n",
       "</style>\n",
       "<table border=\"1\" class=\"dataframe\">\n",
       "  <thead>\n",
       "    <tr style=\"text-align: right;\">\n",
       "      <th></th>\n",
       "      <th>modulation_class</th>\n",
       "      <th>signal_class</th>\n",
       "    </tr>\n",
       "  </thead>\n",
       "  <tbody>\n",
       "    <tr>\n",
       "      <th>count</th>\n",
       "      <td>125361</td>\n",
       "      <td>125361</td>\n",
       "    </tr>\n",
       "    <tr>\n",
       "      <th>unique</th>\n",
       "      <td>6</td>\n",
       "      <td>8</td>\n",
       "    </tr>\n",
       "    <tr>\n",
       "      <th>top</th>\n",
       "      <td>pulsed</td>\n",
       "      <td>AM radio</td>\n",
       "    </tr>\n",
       "    <tr>\n",
       "      <th>freq</th>\n",
       "      <td>56000</td>\n",
       "      <td>28000</td>\n",
       "    </tr>\n",
       "  </tbody>\n",
       "</table>\n",
       "</div>"
      ],
      "text/plain": [
       "       modulation_class signal_class\n",
       "count            125361       125361\n",
       "unique                6            8\n",
       "top              pulsed     AM radio\n",
       "freq              56000        28000"
      ]
     },
     "execution_count": 12,
     "metadata": {},
     "output_type": "execute_result"
    }
   ],
   "source": [
    "# Generate basic statistics for categorical variables\n",
    "\n",
    "rfdf[['modulation_class', 'signal_class']].describe()"
   ]
  },
  {
   "cell_type": "code",
   "execution_count": 13,
   "id": "1cf4bed1",
   "metadata": {},
   "outputs": [
    {
     "data": {
      "text/plain": [
       "array(['amdsb', 'amssb', 'ask', 'bpsk', 'fmcw', 'pulsed'], dtype=object)"
      ]
     },
     "execution_count": 13,
     "metadata": {},
     "output_type": "execute_result"
    }
   ],
   "source": [
    "# Identify unique values in the modulation_class column\n",
    "\n",
    "rfdf['modulation_class'].unique()"
   ]
  },
  {
   "cell_type": "code",
   "execution_count": 14,
   "id": "6f2d4415",
   "metadata": {},
   "outputs": [
    {
     "data": {
      "text/plain": [
       "array([' AM radio', ' short-range', ' Satcom', ' Radar-Altimeter',\n",
       "       ' Air-Ground-MTI', ' Airborne-detection', ' Airborne-range',\n",
       "       ' Ground mapping'], dtype=object)"
      ]
     },
     "execution_count": 14,
     "metadata": {},
     "output_type": "execute_result"
    }
   ],
   "source": [
    "# Identify unique values in the signal_class column\n",
    "\n",
    "rfdf['signal_class'].unique()"
   ]
  },
  {
   "cell_type": "code",
   "execution_count": 15,
   "id": "7fe5578e",
   "metadata": {},
   "outputs": [
    {
     "data": {
      "text/html": [
       "<div>\n",
       "<style scoped>\n",
       "    .dataframe tbody tr th:only-of-type {\n",
       "        vertical-align: middle;\n",
       "    }\n",
       "\n",
       "    .dataframe tbody tr th {\n",
       "        vertical-align: top;\n",
       "    }\n",
       "\n",
       "    .dataframe thead th {\n",
       "        text-align: right;\n",
       "    }\n",
       "</style>\n",
       "<table border=\"1\" class=\"dataframe\">\n",
       "  <thead>\n",
       "    <tr style=\"text-align: right;\">\n",
       "      <th></th>\n",
       "      <th>snr</th>\n",
       "      <th>sample_number</th>\n",
       "    </tr>\n",
       "  </thead>\n",
       "  <tbody>\n",
       "    <tr>\n",
       "      <th>count</th>\n",
       "      <td>125361.000000</td>\n",
       "      <td>125361.000000</td>\n",
       "    </tr>\n",
       "    <tr>\n",
       "      <th>mean</th>\n",
       "      <td>-0.999146</td>\n",
       "      <td>349.394923</td>\n",
       "    </tr>\n",
       "    <tr>\n",
       "      <th>std</th>\n",
       "      <td>11.532295</td>\n",
       "      <td>202.112372</td>\n",
       "    </tr>\n",
       "    <tr>\n",
       "      <th>min</th>\n",
       "      <td>-20.000000</td>\n",
       "      <td>0.000000</td>\n",
       "    </tr>\n",
       "    <tr>\n",
       "      <th>25%</th>\n",
       "      <td>-12.000000</td>\n",
       "      <td>174.000000</td>\n",
       "    </tr>\n",
       "    <tr>\n",
       "      <th>50%</th>\n",
       "      <td>0.000000</td>\n",
       "      <td>349.000000</td>\n",
       "    </tr>\n",
       "    <tr>\n",
       "      <th>75%</th>\n",
       "      <td>10.000000</td>\n",
       "      <td>525.000000</td>\n",
       "    </tr>\n",
       "    <tr>\n",
       "      <th>max</th>\n",
       "      <td>18.000000</td>\n",
       "      <td>699.000000</td>\n",
       "    </tr>\n",
       "  </tbody>\n",
       "</table>\n",
       "</div>"
      ],
      "text/plain": [
       "                 snr  sample_number\n",
       "count  125361.000000  125361.000000\n",
       "mean       -0.999146     349.394923\n",
       "std        11.532295     202.112372\n",
       "min       -20.000000       0.000000\n",
       "25%       -12.000000     174.000000\n",
       "50%         0.000000     349.000000\n",
       "75%        10.000000     525.000000\n",
       "max        18.000000     699.000000"
      ]
     },
     "execution_count": 15,
     "metadata": {},
     "output_type": "execute_result"
    }
   ],
   "source": [
    "# Generate basic statistics for continuous variables\n",
    "\n",
    "rfdf[['snr', 'sample_number']].describe()"
   ]
  },
  {
   "cell_type": "code",
   "execution_count": 16,
   "id": "224df381",
   "metadata": {},
   "outputs": [
    {
     "data": {
      "text/html": [
       "<div>\n",
       "<style scoped>\n",
       "    .dataframe tbody tr th:only-of-type {\n",
       "        vertical-align: middle;\n",
       "    }\n",
       "\n",
       "    .dataframe tbody tr th {\n",
       "        vertical-align: top;\n",
       "    }\n",
       "\n",
       "    .dataframe thead th {\n",
       "        text-align: right;\n",
       "    }\n",
       "</style>\n",
       "<table border=\"1\" class=\"dataframe\">\n",
       "  <thead>\n",
       "    <tr style=\"text-align: right;\">\n",
       "      <th></th>\n",
       "      <th></th>\n",
       "      <th>count</th>\n",
       "    </tr>\n",
       "    <tr>\n",
       "      <th>modulation_class</th>\n",
       "      <th>signal_class</th>\n",
       "      <th></th>\n",
       "    </tr>\n",
       "  </thead>\n",
       "  <tbody>\n",
       "    <tr>\n",
       "      <th>amdsb</th>\n",
       "      <th>AM radio</th>\n",
       "      <td>14000</td>\n",
       "    </tr>\n",
       "    <tr>\n",
       "      <th>amssb</th>\n",
       "      <th>AM radio</th>\n",
       "      <td>14000</td>\n",
       "    </tr>\n",
       "    <tr>\n",
       "      <th>ask</th>\n",
       "      <th>short-range</th>\n",
       "      <td>14000</td>\n",
       "    </tr>\n",
       "    <tr>\n",
       "      <th>bpsk</th>\n",
       "      <th>Satcom</th>\n",
       "      <td>13361</td>\n",
       "    </tr>\n",
       "    <tr>\n",
       "      <th>fmcw</th>\n",
       "      <th>Radar-Altimeter</th>\n",
       "      <td>14000</td>\n",
       "    </tr>\n",
       "    <tr>\n",
       "      <th rowspan=\"4\" valign=\"top\">pulsed</th>\n",
       "      <th>Air-Ground-MTI</th>\n",
       "      <td>14000</td>\n",
       "    </tr>\n",
       "    <tr>\n",
       "      <th>Airborne-detection</th>\n",
       "      <td>14000</td>\n",
       "    </tr>\n",
       "    <tr>\n",
       "      <th>Airborne-range</th>\n",
       "      <td>14000</td>\n",
       "    </tr>\n",
       "    <tr>\n",
       "      <th>Ground mapping</th>\n",
       "      <td>14000</td>\n",
       "    </tr>\n",
       "  </tbody>\n",
       "</table>\n",
       "</div>"
      ],
      "text/plain": [
       "                                      count\n",
       "modulation_class signal_class              \n",
       "amdsb             AM radio            14000\n",
       "amssb             AM radio            14000\n",
       "ask               short-range         14000\n",
       "bpsk              Satcom              13361\n",
       "fmcw              Radar-Altimeter     14000\n",
       "pulsed            Air-Ground-MTI      14000\n",
       "                  Airborne-detection  14000\n",
       "                  Airborne-range      14000\n",
       "                  Ground mapping      14000"
      ]
     },
     "execution_count": 16,
     "metadata": {},
     "output_type": "execute_result"
    }
   ],
   "source": [
    "# Create a pivot table\n",
    "\n",
    "rfdf2 = rfdf.copy()\n",
    "rfdf2['count'] = 1\n",
    "\n",
    "pivot = pd.pivot_table(rfdf2, values = 'count', index=['modulation_class', 'signal_class'], aggfunc=np.sum)\n",
    "pivot"
   ]
  },
  {
   "cell_type": "raw",
   "id": "a5d0f444",
   "metadata": {},
   "source": [
    "# Create a Copy of the rfdf data frame. Use the new df for ML so nothing is changed in the original.\n",
    "\n",
    "df = rfdf.copy()"
   ]
  },
  {
   "cell_type": "markdown",
   "id": "7823c287",
   "metadata": {},
   "source": [
    "# \n",
    "# Machine Learning"
   ]
  },
  {
   "cell_type": "raw",
   "id": "f3aa4d30",
   "metadata": {},
   "source": [
    "cnn_df = df[['modulation_class', 'signal_class', 'snr', 'iq_sig']]\n",
    "\n",
    "for i in range (0, len(cnn_df)):\n",
    "    cnn_df['iq_sig'][i] = np.reshape(cnn_df['iq_sig'][i], (16,16))\n",
    "\n",
    "np.save('C:/Users/cg/Documents/cnndf.npy', cnn_df)"
   ]
  },
  {
   "cell_type": "code",
   "execution_count": 17,
   "id": "ae0652b4",
   "metadata": {},
   "outputs": [],
   "source": [
    "cnn_df = pd.DataFrame(np.load('C:/Users/cg/Documents/cnndf.npy', mmap_mode=None, allow_pickle=True))\n",
    "cnn_df = cnn_df.rename(columns={0: 'modulation_class', 1: 'signal_class', 2: 'snr', 3: 'iq_sig'})"
   ]
  },
  {
   "cell_type": "code",
   "execution_count": 18,
   "id": "58887562",
   "metadata": {},
   "outputs": [
    {
     "data": {
      "text/html": [
       "<div>\n",
       "<style scoped>\n",
       "    .dataframe tbody tr th:only-of-type {\n",
       "        vertical-align: middle;\n",
       "    }\n",
       "\n",
       "    .dataframe tbody tr th {\n",
       "        vertical-align: top;\n",
       "    }\n",
       "\n",
       "    .dataframe thead th {\n",
       "        text-align: right;\n",
       "    }\n",
       "</style>\n",
       "<table border=\"1\" class=\"dataframe\">\n",
       "  <thead>\n",
       "    <tr style=\"text-align: right;\">\n",
       "      <th></th>\n",
       "      <th>modulation_class</th>\n",
       "      <th>signal_class</th>\n",
       "      <th>snr</th>\n",
       "      <th>iq_sig</th>\n",
       "    </tr>\n",
       "  </thead>\n",
       "  <tbody>\n",
       "    <tr>\n",
       "      <th>0</th>\n",
       "      <td>amdsb</td>\n",
       "      <td>AM radio</td>\n",
       "      <td>-10</td>\n",
       "      <td>[[0.0022213736, -0.004062688, 0.00049394136, -...</td>\n",
       "    </tr>\n",
       "    <tr>\n",
       "      <th>1</th>\n",
       "      <td>amdsb</td>\n",
       "      <td>AM radio</td>\n",
       "      <td>-10</td>\n",
       "      <td>[[0.008891443, 0.0048659234, 0.014986212, 0.00...</td>\n",
       "    </tr>\n",
       "    <tr>\n",
       "      <th>2</th>\n",
       "      <td>amdsb</td>\n",
       "      <td>AM radio</td>\n",
       "      <td>-10</td>\n",
       "      <td>[[0.006300397, 0.0017758766, -0.010450985, -0....</td>\n",
       "    </tr>\n",
       "    <tr>\n",
       "      <th>3</th>\n",
       "      <td>amdsb</td>\n",
       "      <td>AM radio</td>\n",
       "      <td>-10</td>\n",
       "      <td>[[-0.000121575635, 0.0054833353, -0.0015846576...</td>\n",
       "    </tr>\n",
       "    <tr>\n",
       "      <th>4</th>\n",
       "      <td>amdsb</td>\n",
       "      <td>AM radio</td>\n",
       "      <td>-10</td>\n",
       "      <td>[[-0.0027291004, -0.00032252073, 0.0072389836,...</td>\n",
       "    </tr>\n",
       "  </tbody>\n",
       "</table>\n",
       "</div>"
      ],
      "text/plain": [
       "  modulation_class signal_class  snr  \\\n",
       "0            amdsb     AM radio  -10   \n",
       "1            amdsb     AM radio  -10   \n",
       "2            amdsb     AM radio  -10   \n",
       "3            amdsb     AM radio  -10   \n",
       "4            amdsb     AM radio  -10   \n",
       "\n",
       "                                              iq_sig  \n",
       "0  [[0.0022213736, -0.004062688, 0.00049394136, -...  \n",
       "1  [[0.008891443, 0.0048659234, 0.014986212, 0.00...  \n",
       "2  [[0.006300397, 0.0017758766, -0.010450985, -0....  \n",
       "3  [[-0.000121575635, 0.0054833353, -0.0015846576...  \n",
       "4  [[-0.0027291004, -0.00032252073, 0.0072389836,...  "
      ]
     },
     "execution_count": 18,
     "metadata": {},
     "output_type": "execute_result"
    }
   ],
   "source": [
    "cnn_df.head(5)"
   ]
  },
  {
   "cell_type": "markdown",
   "id": "47be26dd",
   "metadata": {},
   "source": [
    "## \n",
    "# CNN Preprocessing"
   ]
  },
  {
   "cell_type": "code",
   "execution_count": 19,
   "id": "c65bd4a5",
   "metadata": {},
   "outputs": [],
   "source": [
    "from keras import callbacks\n",
    "from keras import layers\n",
    "from keras import models\n",
    "from keras import Input\n",
    "from keras.models import Model"
   ]
  },
  {
   "cell_type": "code",
   "execution_count": 20,
   "id": "6c154d9b",
   "metadata": {},
   "outputs": [],
   "source": [
    "# Preprocessing - Select Subsample of Data\n",
    "\n",
    "# cnn_df = cnn_df[cnn_df.snr >= 0]"
   ]
  },
  {
   "cell_type": "code",
   "execution_count": 21,
   "id": "c9aa61e8",
   "metadata": {},
   "outputs": [],
   "source": [
    "# Preprocessing - Create Train & Test Sets\n",
    "\n",
    "import sklearn\n",
    "from sklearn.model_selection import train_test_split\n",
    "\n",
    "x_train, x_test, sig_train, sig_test, mod_train, mod_test= train_test_split(cnn_df['iq_sig'],\n",
    "                                                                            cnn_df['signal_class'], \n",
    "                                                                            cnn_df['modulation_class'],\n",
    "                                                                            train_size = .80, \n",
    "                                                                            random_state = 2850)"
   ]
  },
  {
   "cell_type": "code",
   "execution_count": 22,
   "id": "0f789fbd",
   "metadata": {},
   "outputs": [],
   "source": [
    "# Preprocessing - Encoding\n",
    "\n",
    "mod_train = pd.get_dummies(mod_train)\n",
    "mod_test = pd.get_dummies(mod_test)\n",
    "\n",
    "sig_train = pd.get_dummies(sig_train)\n",
    "sig_test = pd.get_dummies(sig_test)"
   ]
  },
  {
   "cell_type": "code",
   "execution_count": 23,
   "id": "784ce934",
   "metadata": {},
   "outputs": [],
   "source": [
    "# Preprocessing - Padding\n",
    "\n",
    "from keras.preprocessing import sequence\n",
    "x_train = sequence.pad_sequences(x_train, dtype='float32', maxlen=16)\n",
    "x_test = sequence.pad_sequences(x_test, dtype='float32', maxlen=16)"
   ]
  },
  {
   "cell_type": "code",
   "execution_count": 24,
   "id": "1a756f57",
   "metadata": {},
   "outputs": [],
   "source": [
    "# Preprocessing - Reshape\n",
    "\n",
    "N, H, W = x_train.shape\n",
    "N_test = x_test.shape[0]\n",
    "C = 1\n",
    "\n",
    "x_train = x_train.reshape(N, H, W, C)\n",
    "x_test = x_test.reshape(N_test, H, W, C)"
   ]
  },
  {
   "cell_type": "markdown",
   "id": "f9e0602d",
   "metadata": {},
   "source": [
    "## \n",
    "# Single Task CNN - Modulation Classification"
   ]
  },
  {
   "cell_type": "code",
   "execution_count": 25,
   "id": "173562fb",
   "metadata": {},
   "outputs": [
    {
     "name": "stdout",
     "output_type": "stream",
     "text": [
      "Epoch 1/10\n",
      "2821/2821 [==============================] - 33s 12ms/step - loss: 0.9352 - accuracy: 0.6760 - val_loss: 0.7337 - val_accuracy: 0.7592\n",
      "Epoch 2/10\n",
      "2821/2821 [==============================] - 36s 13ms/step - loss: 0.7239 - accuracy: 0.7572 - val_loss: 0.6919 - val_accuracy: 0.7683\n",
      "Epoch 3/10\n",
      "2821/2821 [==============================] - 39s 14ms/step - loss: 0.6981 - accuracy: 0.7656 - val_loss: 0.6786 - val_accuracy: 0.7766\n",
      "Epoch 4/10\n",
      "2821/2821 [==============================] - 34s 12ms/step - loss: 0.6728 - accuracy: 0.7742 - val_loss: 0.6570 - val_accuracy: 0.7851\n",
      "Epoch 5/10\n",
      "2821/2821 [==============================] - 32s 11ms/step - loss: 0.6556 - accuracy: 0.7795 - val_loss: 0.6630 - val_accuracy: 0.7842\n",
      "Epoch 6/10\n",
      "2821/2821 [==============================] - 32s 11ms/step - loss: 0.6429 - accuracy: 0.7826 - val_loss: 0.6496 - val_accuracy: 0.7880\n",
      "Epoch 7/10\n",
      "2821/2821 [==============================] - 31s 11ms/step - loss: 0.6260 - accuracy: 0.7879 - val_loss: 0.6533 - val_accuracy: 0.7867\n",
      "Epoch 8/10\n",
      "2821/2821 [==============================] - 37s 13ms/step - loss: 0.6088 - accuracy: 0.7924 - val_loss: 0.6412 - val_accuracy: 0.7903\n",
      "Epoch 9/10\n",
      "2821/2821 [==============================] - 41s 14ms/step - loss: 0.5883 - accuracy: 0.7986 - val_loss: 0.6437 - val_accuracy: 0.7894\n",
      "Epoch 10/10\n",
      "2821/2821 [==============================] - 41s 14ms/step - loss: 0.5652 - accuracy: 0.8038 - val_loss: 0.6599 - val_accuracy: 0.7881\n"
     ]
    }
   ],
   "source": [
    "# Create Convolutional Neural Network for Modulation Classification\n",
    "\n",
    "mod_classification_cnn = models.Sequential()\n",
    "\n",
    "mod_classification_cnn.add(layers.Conv2D(filters = 32, kernel_size = (3,3), activation = 'relu', padding = 'same', input_shape = x_train.shape[1:])) \n",
    "mod_classification_cnn.add(layers.MaxPooling2D(pool_size = (2,2)))\n",
    "mod_classification_cnn.add(layers.Conv2D(filters = 64, kernel_size = (3,3), activation = 'relu', padding = 'same'))\n",
    "mod_classification_cnn.add(layers.Flatten())\n",
    "mod_classification_cnn.add(layers.Dense(64, activation = 'relu'))\n",
    "mod_classification_cnn.add(layers.Dense(6, activation = 'softmax'))\n",
    "\n",
    "mod_classification_cnn.compile(optimizer = 'nadam', loss = 'categorical_crossentropy', metrics = ['accuracy'])\n",
    "\n",
    "mod_cnn = mod_classification_cnn.fit(x_train,  mod_train, epochs = 10,  batch_size = 32, validation_split = .1)"
   ]
  },
  {
   "cell_type": "raw",
   "id": "870db996",
   "metadata": {},
   "source": [
    "mod_classification_cnn.summary() # Model Summary Representation"
   ]
  },
  {
   "cell_type": "code",
   "execution_count": 26,
   "id": "2b8b35fc",
   "metadata": {},
   "outputs": [
    {
     "name": "stdout",
     "output_type": "stream",
     "text": [
      "784/784 [==============================] - 3s 4ms/step - loss: 0.6621 - accuracy: 0.7826\n"
     ]
    },
    {
     "data": {
      "text/plain": [
       "[0.6620702743530273, 0.7825549244880676]"
      ]
     },
     "execution_count": 26,
     "metadata": {},
     "output_type": "execute_result"
    }
   ],
   "source": [
    "# mod_classification_cnn.output_shape # Model Output Shape\n",
    "# mod_classification_cnn.get_config() # Model Configuration\n",
    "# mod_classification_cnn.get_weights() # Model Weights\n",
    "# mod_classification_cnn.predict(x_test, batch_size=32) # Model Prediction\n",
    "# mod_classification_cnn.predict_classes(x_test, batch_size=32) # Model Class Prediction\n",
    "mod_classification_cnn.evaluate(x_test, mod_test, batch_size = 32) # Model Evaluation"
   ]
  },
  {
   "cell_type": "markdown",
   "id": "cb6c56fd",
   "metadata": {},
   "source": [
    "## \n",
    "# Single Task CNN - Signal Classification"
   ]
  },
  {
   "cell_type": "code",
   "execution_count": 27,
   "id": "d55f91fe",
   "metadata": {},
   "outputs": [
    {
     "name": "stdout",
     "output_type": "stream",
     "text": [
      "Epoch 1/10\n",
      "2821/2821 [==============================] - 40s 14ms/step - loss: 1.1171 - accuracy: 0.5808 - val_loss: 1.0093 - val_accuracy: 0.6159\n",
      "Epoch 2/10\n",
      "2821/2821 [==============================] - 40s 14ms/step - loss: 0.9665 - accuracy: 0.6330 - val_loss: 0.9624 - val_accuracy: 0.6354\n",
      "Epoch 3/10\n",
      "2821/2821 [==============================] - 36s 13ms/step - loss: 0.9335 - accuracy: 0.6446 - val_loss: 0.9319 - val_accuracy: 0.6422\n",
      "Epoch 4/10\n",
      "2821/2821 [==============================] - 37s 13ms/step - loss: 0.9091 - accuracy: 0.6539 - val_loss: 0.9263 - val_accuracy: 0.6438\n",
      "Epoch 5/10\n",
      "2821/2821 [==============================] - 39s 14ms/step - loss: 0.8908 - accuracy: 0.6614 - val_loss: 0.9142 - val_accuracy: 0.6523\n",
      "Epoch 6/10\n",
      "2821/2821 [==============================] - 39s 14ms/step - loss: 0.8720 - accuracy: 0.6701 - val_loss: 0.9166 - val_accuracy: 0.6531\n",
      "Epoch 7/10\n",
      "2821/2821 [==============================] - 40s 14ms/step - loss: 0.8519 - accuracy: 0.6788 - val_loss: 0.9174 - val_accuracy: 0.6522\n",
      "Epoch 8/10\n",
      "2821/2821 [==============================] - 39s 14ms/step - loss: 0.8271 - accuracy: 0.6912 - val_loss: 0.9218 - val_accuracy: 0.6442\n",
      "Epoch 9/10\n",
      "2821/2821 [==============================] - 38s 14ms/step - loss: 0.8007 - accuracy: 0.7008 - val_loss: 0.9411 - val_accuracy: 0.6447\n",
      "Epoch 10/10\n",
      "2821/2821 [==============================] - 41s 15ms/step - loss: 0.7704 - accuracy: 0.7140 - val_loss: 0.9657 - val_accuracy: 0.6428\n"
     ]
    }
   ],
   "source": [
    "# Create Convolutional Neural Network for Signal Classification\n",
    "\n",
    "sig_classification_cnn = models.Sequential()\n",
    "\n",
    "sig_classification_cnn.add(layers.Conv2D(filters = 32, kernel_size = (3,3), activation = 'relu', padding = 'same', input_shape = x_train.shape[1:])) \n",
    "sig_classification_cnn.add(layers.MaxPooling2D(pool_size = (2,2)))\n",
    "sig_classification_cnn.add(layers.Conv2D(filters = 64, kernel_size = (3,3), activation = 'relu',  padding = 'same'))\n",
    "sig_classification_cnn.add(layers.Flatten())\n",
    "sig_classification_cnn.add(layers.Dense(64, activation = 'relu'))\n",
    "sig_classification_cnn.add(layers.Dense(8, activation = 'softmax'))\n",
    "\n",
    "sig_classification_cnn.compile(optimizer = 'nadam', loss = 'categorical_crossentropy',  metrics = ['accuracy'])\n",
    "\n",
    "sig_cnn = sig_classification_cnn.fit(x_train, sig_train, epochs = 10, batch_size = 32, validation_split = .1)"
   ]
  },
  {
   "cell_type": "raw",
   "id": "399b80b3",
   "metadata": {},
   "source": [
    "sig_classification_cnn.summary() # Model Summary Representation"
   ]
  },
  {
   "cell_type": "code",
   "execution_count": 28,
   "id": "a0b30ee4",
   "metadata": {},
   "outputs": [
    {
     "name": "stdout",
     "output_type": "stream",
     "text": [
      "784/784 [==============================] - 4s 4ms/step - loss: 0.9506 - accuracy: 0.6472\n"
     ]
    },
    {
     "data": {
      "text/plain": [
       "[0.950608491897583, 0.6472300887107849]"
      ]
     },
     "execution_count": 28,
     "metadata": {},
     "output_type": "execute_result"
    }
   ],
   "source": [
    "# sig_classification_cnn.output_shape # Model Output Shape\n",
    "# sig_classification_cnn.get_config() # Model Configuration\n",
    "# sig_classification_cnn.get_weights() # Model Weights\n",
    "# sig_classification_cnn.predict(x_test, batch_size=32) # Model Prediction\n",
    "# sig_classification_cnn.predict_classes(x_test, batch_size=32) # Model Class Prediction\n",
    "sig_classification_cnn.evaluate(x_test, sig_test, batch_size = 32) # Model Evaluation"
   ]
  },
  {
   "cell_type": "markdown",
   "id": "da1db5d0",
   "metadata": {},
   "source": [
    "# \n",
    "# Multi Task CNN - Modulation & Signal Classification"
   ]
  },
  {
   "cell_type": "code",
   "execution_count": 29,
   "id": "d7531959",
   "metadata": {},
   "outputs": [
    {
     "name": "stdout",
     "output_type": "stream",
     "text": [
      "Epoch 1/10\n",
      "2821/2821 [==============================] - 20s 7ms/step - loss: 1.1043 - mod_class_loss: 0.8802 - sig_class_loss: 1.1604 - mod_class_accuracy: 0.7033 - sig_class_accuracy: 0.5654 - val_loss: 0.9552 - val_mod_class_loss: 0.7320 - val_sig_class_loss: 1.0110 - val_mod_class_accuracy: 0.7644 - val_sig_class_accuracy: 0.6185\n",
      "Epoch 2/10\n",
      "2821/2821 [==============================] - 18s 6ms/step - loss: 0.9377 - mod_class_loss: 0.7280 - sig_class_loss: 0.9902 - mod_class_accuracy: 0.7566 - sig_class_accuracy: 0.6233 - val_loss: 0.9303 - val_mod_class_loss: 0.7106 - val_sig_class_loss: 0.9852 - val_mod_class_accuracy: 0.7660 - val_sig_class_accuracy: 0.6215\n",
      "Epoch 3/10\n",
      "2821/2821 [==============================] - 18s 6ms/step - loss: 0.9128 - mod_class_loss: 0.7056 - sig_class_loss: 0.9646 - mod_class_accuracy: 0.7632 - sig_class_accuracy: 0.6305 - val_loss: 0.9127 - val_mod_class_loss: 0.6897 - val_sig_class_loss: 0.9684 - val_mod_class_accuracy: 0.7708 - val_sig_class_accuracy: 0.6321\n",
      "Epoch 4/10\n",
      "2821/2821 [==============================] - 21s 8ms/step - loss: 0.8958 - mod_class_loss: 0.6904 - sig_class_loss: 0.9471 - mod_class_accuracy: 0.7688 - sig_class_accuracy: 0.6369 - val_loss: 0.9081 - val_mod_class_loss: 0.7012 - val_sig_class_loss: 0.9598 - val_mod_class_accuracy: 0.7681 - val_sig_class_accuracy: 0.6329\n",
      "Epoch 5/10\n",
      "2821/2821 [==============================] - 17s 6ms/step - loss: 0.8794 - mod_class_loss: 0.6760 - sig_class_loss: 0.9302 - mod_class_accuracy: 0.7730 - sig_class_accuracy: 0.6443 - val_loss: 0.8890 - val_mod_class_loss: 0.6869 - val_sig_class_loss: 0.9395 - val_mod_class_accuracy: 0.7739 - val_sig_class_accuracy: 0.6435\n",
      "Epoch 6/10\n",
      "2821/2821 [==============================] - 17s 6ms/step - loss: 0.8657 - mod_class_loss: 0.6637 - sig_class_loss: 0.9162 - mod_class_accuracy: 0.7772 - sig_class_accuracy: 0.6501 - val_loss: 0.8781 - val_mod_class_loss: 0.6620 - val_sig_class_loss: 0.9322 - val_mod_class_accuracy: 0.7808 - val_sig_class_accuracy: 0.6449\n",
      "Epoch 7/10\n",
      "2821/2821 [==============================] - 18s 6ms/step - loss: 0.8539 - mod_class_loss: 0.6514 - sig_class_loss: 0.9045 - mod_class_accuracy: 0.7806 - sig_class_accuracy: 0.6553 - val_loss: 0.9488 - val_mod_class_loss: 0.6723 - val_sig_class_loss: 1.0179 - val_mod_class_accuracy: 0.7738 - val_sig_class_accuracy: 0.6191\n",
      "Epoch 8/10\n",
      "2821/2821 [==============================] - 18s 6ms/step - loss: 0.8413 - mod_class_loss: 0.6390 - sig_class_loss: 0.8919 - mod_class_accuracy: 0.7840 - sig_class_accuracy: 0.6603 - val_loss: 0.8694 - val_mod_class_loss: 0.6475 - val_sig_class_loss: 0.9249 - val_mod_class_accuracy: 0.7897 - val_sig_class_accuracy: 0.6448\n",
      "Epoch 9/10\n",
      "2821/2821 [==============================] - 18s 6ms/step - loss: 0.8290 - mod_class_loss: 0.6278 - sig_class_loss: 0.8793 - mod_class_accuracy: 0.7866 - sig_class_accuracy: 0.6662 - val_loss: 0.9007 - val_mod_class_loss: 0.6667 - val_sig_class_loss: 0.9592 - val_mod_class_accuracy: 0.7826 - val_sig_class_accuracy: 0.6427\n",
      "Epoch 10/10\n",
      "2821/2821 [==============================] - 18s 6ms/step - loss: 0.8168 - mod_class_loss: 0.6177 - sig_class_loss: 0.8666 - mod_class_accuracy: 0.7892 - sig_class_accuracy: 0.6712 - val_loss: 0.8720 - val_mod_class_loss: 0.6552 - val_sig_class_loss: 0.9263 - val_mod_class_accuracy: 0.7851 - val_sig_class_accuracy: 0.6459\n"
     ]
    }
   ],
   "source": [
    "#32-32-256\n",
    "\n",
    "iq_input = Input(shape=(16,16,1), dtype='float32', name = 'x_train')\n",
    "\n",
    "shared = layers.Conv2D(32, (4,4), activation = 'relu')(iq_input)\n",
    "shared = layers.MaxPooling2D(2,2)(shared)\n",
    "\n",
    "mod_predict = layers.Conv2D(32, (3,3), activation = 'relu')(shared)\n",
    "mod_predict = layers.Flatten()(mod_predict)\n",
    "mod_predict = layers.Dense(256, activation = 'relu')(mod_predict)\n",
    "mod_predict = layers.Dense(6, activation = 'softmax', name = 'mod_class')(mod_predict)\n",
    "\n",
    "sig_predict = layers.Conv2D(32, (3,3), activation = 'relu')(shared)\n",
    "sig_predict = layers.Flatten()(sig_predict)\n",
    "sig_predict = layers.Dense(256, activation = 'relu')(sig_predict)\n",
    "sig_predict = layers.Dense(8, activation = 'softmax', name = 'sig_class')(sig_predict)\n",
    "\n",
    "mtl_cnn = Model(iq_input, [mod_predict, sig_predict])\n",
    "\n",
    "mtl_cnn.compile(optimizer = 'nadam',  loss = ['categorical_crossentropy', 'categorical_crossentropy'], metrics = ['accuracy'], loss_weights = [.2, .8])\n",
    "\n",
    "mtl1 = mtl_cnn.fit(x_train, {'mod_class': mod_train, 'sig_class': sig_train}, epochs = 10, batch_size = 32, validation_split = .1)"
   ]
  },
  {
   "cell_type": "code",
   "execution_count": 30,
   "id": "7833e880",
   "metadata": {},
   "outputs": [
    {
     "name": "stdout",
     "output_type": "stream",
     "text": [
      "Epoch 1/10\n",
      "2821/2821 [==============================] - 35s 12ms/step - loss: 1.0734 - mod_class_loss: 0.8384 - sig_class_loss: 1.1322 - mod_class_accuracy: 0.7172 - sig_class_accuracy: 0.5759 - val_loss: 1.1021 - val_mod_class_loss: 0.8517 - val_sig_class_loss: 1.1647 - val_mod_class_accuracy: 0.6763 - val_sig_class_accuracy: 0.5874\n",
      "Epoch 2/10\n",
      "2821/2821 [==============================] - 35s 12ms/step - loss: 0.9275 - mod_class_loss: 0.7122 - sig_class_loss: 0.9813 - mod_class_accuracy: 0.7620 - sig_class_accuracy: 0.6250 - val_loss: 0.9138 - val_mod_class_loss: 0.6918 - val_sig_class_loss: 0.9693 - val_mod_class_accuracy: 0.7736 - val_sig_class_accuracy: 0.6330\n",
      "Epoch 3/10\n",
      "2821/2821 [==============================] - 36s 13ms/step - loss: 0.8995 - mod_class_loss: 0.6860 - sig_class_loss: 0.9529 - mod_class_accuracy: 0.7707 - sig_class_accuracy: 0.6371 - val_loss: 0.8925 - val_mod_class_loss: 0.6693 - val_sig_class_loss: 0.9483 - val_mod_class_accuracy: 0.7800 - val_sig_class_accuracy: 0.6408\n",
      "Epoch 4/10\n",
      "2821/2821 [==============================] - 35s 12ms/step - loss: 0.8769 - mod_class_loss: 0.6655 - sig_class_loss: 0.9298 - mod_class_accuracy: 0.7771 - sig_class_accuracy: 0.6457 - val_loss: 0.8812 - val_mod_class_loss: 0.6611 - val_sig_class_loss: 0.9362 - val_mod_class_accuracy: 0.7849 - val_sig_class_accuracy: 0.6413\n",
      "Epoch 5/10\n",
      "2821/2821 [==============================] - 34s 12ms/step - loss: 0.8595 - mod_class_loss: 0.6506 - sig_class_loss: 0.9117 - mod_class_accuracy: 0.7810 - sig_class_accuracy: 0.6527 - val_loss: 0.8789 - val_mod_class_loss: 0.6652 - val_sig_class_loss: 0.9323 - val_mod_class_accuracy: 0.7797 - val_sig_class_accuracy: 0.6464\n",
      "Epoch 6/10\n",
      "2821/2821 [==============================] - 34s 12ms/step - loss: 0.8433 - mod_class_loss: 0.6372 - sig_class_loss: 0.8948 - mod_class_accuracy: 0.7844 - sig_class_accuracy: 0.6607 - val_loss: 0.8781 - val_mod_class_loss: 0.6603 - val_sig_class_loss: 0.9326 - val_mod_class_accuracy: 0.7834 - val_sig_class_accuracy: 0.6480\n",
      "Epoch 7/10\n",
      "2821/2821 [==============================] - 34s 12ms/step - loss: 0.8267 - mod_class_loss: 0.6232 - sig_class_loss: 0.8775 - mod_class_accuracy: 0.7881 - sig_class_accuracy: 0.6675 - val_loss: 0.8905 - val_mod_class_loss: 0.6608 - val_sig_class_loss: 0.9479 - val_mod_class_accuracy: 0.7826 - val_sig_class_accuracy: 0.6432\n",
      "Epoch 8/10\n",
      "2821/2821 [==============================] - 35s 12ms/step - loss: 0.8096 - mod_class_loss: 0.6101 - sig_class_loss: 0.8595 - mod_class_accuracy: 0.7916 - sig_class_accuracy: 0.6757 - val_loss: 0.8744 - val_mod_class_loss: 0.6499 - val_sig_class_loss: 0.9305 - val_mod_class_accuracy: 0.7877 - val_sig_class_accuracy: 0.6491\n",
      "Epoch 9/10\n",
      "2821/2821 [==============================] - 34s 12ms/step - loss: 0.7909 - mod_class_loss: 0.5938 - sig_class_loss: 0.8401 - mod_class_accuracy: 0.7959 - sig_class_accuracy: 0.6834 - val_loss: 0.8793 - val_mod_class_loss: 0.6562 - val_sig_class_loss: 0.9350 - val_mod_class_accuracy: 0.7867 - val_sig_class_accuracy: 0.6467\n",
      "Epoch 10/10\n",
      "2821/2821 [==============================] - 34s 12ms/step - loss: 0.7675 - mod_class_loss: 0.5750 - sig_class_loss: 0.8157 - mod_class_accuracy: 0.8005 - sig_class_accuracy: 0.6946 - val_loss: 0.8899 - val_mod_class_loss: 0.6653 - val_sig_class_loss: 0.9461 - val_mod_class_accuracy: 0.7854 - val_sig_class_accuracy: 0.6410\n"
     ]
    }
   ],
   "source": [
    "#32-64-256\n",
    "\n",
    "iq_input = Input(shape=(16,16,1), dtype='float32', name = 'x_train')\n",
    "\n",
    "shared = layers.Conv2D(32, (4,4), activation = 'relu')(iq_input)\n",
    "shared = layers.MaxPooling2D(2,2)(shared)\n",
    "\n",
    "mod_predict = layers.Conv2D(64, (3,3), activation = 'relu')(shared)\n",
    "mod_predict = layers.Flatten()(mod_predict)\n",
    "mod_predict = layers.Dense(256, activation = 'relu')(mod_predict)\n",
    "mod_predict = layers.Dense(6, activation = 'softmax', name = 'mod_class')(mod_predict)\n",
    "\n",
    "sig_predict = layers.Conv2D(64, (3,3), activation = 'relu')(shared)\n",
    "sig_predict = layers.Flatten()(sig_predict)\n",
    "sig_predict = layers.Dense(256, activation = 'relu')(sig_predict)\n",
    "sig_predict = layers.Dense(8, activation = 'softmax', name = 'sig_class')(sig_predict)\n",
    "\n",
    "mtl_cnn = Model(iq_input, [mod_predict, sig_predict])\n",
    "\n",
    "mtl_cnn.compile(optimizer = 'nadam',  loss = ['categorical_crossentropy', 'categorical_crossentropy'], metrics = ['accuracy'], loss_weights = [.2, .8])\n",
    "\n",
    "mtl2 = mtl_cnn.fit(x_train, {'mod_class': mod_train, 'sig_class': sig_train}, epochs = 10, batch_size = 32, validation_split = .1)"
   ]
  },
  {
   "cell_type": "code",
   "execution_count": 31,
   "id": "1b7febf8",
   "metadata": {},
   "outputs": [
    {
     "name": "stdout",
     "output_type": "stream",
     "text": [
      "Epoch 1/10\n",
      "2821/2821 [==============================] - 56s 20ms/step - loss: 1.0600 - mod_class_loss: 0.8320 - sig_class_loss: 1.1170 - mod_class_accuracy: 0.7183 - sig_class_accuracy: 0.5813 - val_loss: 0.9465 - val_mod_class_loss: 0.7165 - val_sig_class_loss: 1.0040 - val_mod_class_accuracy: 0.7648 - val_sig_class_accuracy: 0.6197\n",
      "Epoch 2/10\n",
      "2821/2821 [==============================] - 55s 20ms/step - loss: 0.9175 - mod_class_loss: 0.7042 - sig_class_loss: 0.9709 - mod_class_accuracy: 0.7644 - sig_class_accuracy: 0.6299 - val_loss: 0.9067 - val_mod_class_loss: 0.6877 - val_sig_class_loss: 0.9615 - val_mod_class_accuracy: 0.7723 - val_sig_class_accuracy: 0.6374\n",
      "Epoch 3/10\n",
      "2821/2821 [==============================] - 54s 19ms/step - loss: 0.8889 - mod_class_loss: 0.6795 - sig_class_loss: 0.9413 - mod_class_accuracy: 0.7717 - sig_class_accuracy: 0.6416 - val_loss: 0.8905 - val_mod_class_loss: 0.6680 - val_sig_class_loss: 0.9462 - val_mod_class_accuracy: 0.7844 - val_sig_class_accuracy: 0.6391\n",
      "Epoch 4/10\n",
      "2821/2821 [==============================] - 56s 20ms/step - loss: 0.8660 - mod_class_loss: 0.6582 - sig_class_loss: 0.9179 - mod_class_accuracy: 0.7797 - sig_class_accuracy: 0.6503 - val_loss: 0.8969 - val_mod_class_loss: 0.6696 - val_sig_class_loss: 0.9537 - val_mod_class_accuracy: 0.7798 - val_sig_class_accuracy: 0.6312\n",
      "Epoch 5/10\n",
      "2821/2821 [==============================] - 56s 20ms/step - loss: 0.8482 - mod_class_loss: 0.6436 - sig_class_loss: 0.8993 - mod_class_accuracy: 0.7834 - sig_class_accuracy: 0.6585 - val_loss: 0.8694 - val_mod_class_loss: 0.6449 - val_sig_class_loss: 0.9256 - val_mod_class_accuracy: 0.7898 - val_sig_class_accuracy: 0.6445\n",
      "Epoch 6/10\n",
      "2821/2821 [==============================] - 56s 20ms/step - loss: 0.8302 - mod_class_loss: 0.6275 - sig_class_loss: 0.8809 - mod_class_accuracy: 0.7871 - sig_class_accuracy: 0.6661 - val_loss: 0.8812 - val_mod_class_loss: 0.6559 - val_sig_class_loss: 0.9376 - val_mod_class_accuracy: 0.7860 - val_sig_class_accuracy: 0.6446\n",
      "Epoch 7/10\n",
      "2821/2821 [==============================] - 56s 20ms/step - loss: 0.8117 - mod_class_loss: 0.6121 - sig_class_loss: 0.8616 - mod_class_accuracy: 0.7910 - sig_class_accuracy: 0.6751 - val_loss: 0.8701 - val_mod_class_loss: 0.6477 - val_sig_class_loss: 0.9257 - val_mod_class_accuracy: 0.7887 - val_sig_class_accuracy: 0.6449\n",
      "Epoch 8/10\n",
      "2821/2821 [==============================] - 56s 20ms/step - loss: 0.7857 - mod_class_loss: 0.5891 - sig_class_loss: 0.8348 - mod_class_accuracy: 0.7975 - sig_class_accuracy: 0.6855 - val_loss: 0.8872 - val_mod_class_loss: 0.6638 - val_sig_class_loss: 0.9431 - val_mod_class_accuracy: 0.7777 - val_sig_class_accuracy: 0.6439\n",
      "Epoch 9/10\n",
      "2821/2821 [==============================] - 56s 20ms/step - loss: 0.7553 - mod_class_loss: 0.5636 - sig_class_loss: 0.8032 - mod_class_accuracy: 0.8036 - sig_class_accuracy: 0.7008 - val_loss: 0.9029 - val_mod_class_loss: 0.6699 - val_sig_class_loss: 0.9612 - val_mod_class_accuracy: 0.7806 - val_sig_class_accuracy: 0.6452\n",
      "Epoch 10/10\n",
      "2821/2821 [==============================] - 59s 21ms/step - loss: 0.7158 - mod_class_loss: 0.5311 - sig_class_loss: 0.7620 - mod_class_accuracy: 0.8133 - sig_class_accuracy: 0.7187 - val_loss: 0.9134 - val_mod_class_loss: 0.6925 - val_sig_class_loss: 0.9687 - val_mod_class_accuracy: 0.7809 - val_sig_class_accuracy: 0.6397\n"
     ]
    }
   ],
   "source": [
    "#32-128-256\n",
    "\n",
    "iq_input = Input(shape=(16,16,1), dtype='float32', name = 'x_train')\n",
    "\n",
    "shared = layers.Conv2D(32, (4,4), activation = 'relu')(iq_input)\n",
    "shared = layers.MaxPooling2D(2,2)(shared)\n",
    "\n",
    "mod_predict = layers.Conv2D(128, (3,3), activation = 'relu')(shared)\n",
    "mod_predict = layers.Flatten()(mod_predict)\n",
    "mod_predict = layers.Dense(256, activation = 'relu')(mod_predict)\n",
    "mod_predict = layers.Dense(6, activation = 'softmax', name = 'mod_class')(mod_predict)\n",
    "\n",
    "sig_predict = layers.Conv2D(128, (3,3), activation = 'relu')(shared)\n",
    "sig_predict = layers.Flatten()(sig_predict)\n",
    "sig_predict = layers.Dense(256, activation = 'relu')(sig_predict)\n",
    "sig_predict = layers.Dense(8, activation = 'softmax', name = 'sig_class')(sig_predict)\n",
    "\n",
    "mtl_cnn = Model(iq_input, [mod_predict, sig_predict])\n",
    "\n",
    "mtl_cnn.compile(optimizer = 'nadam',  loss = ['categorical_crossentropy', 'categorical_crossentropy'], metrics = ['accuracy'], loss_weights = [.2, .8])\n",
    "\n",
    "mtl3 = mtl_cnn.fit(x_train, {'mod_class': mod_train, 'sig_class': sig_train}, epochs = 10, batch_size = 32, validation_split = .1)"
   ]
  },
  {
   "cell_type": "code",
   "execution_count": 32,
   "id": "fa9115b2",
   "metadata": {},
   "outputs": [
    {
     "name": "stdout",
     "output_type": "stream",
     "text": [
      "Epoch 1/10\n",
      "2821/2821 [==============================] - 101s 36ms/step - loss: 1.0349 - mod_class_loss: 0.8095 - sig_class_loss: 1.0913 - mod_class_accuracy: 0.7275 - sig_class_accuracy: 0.5886 - val_loss: 0.9229 - val_mod_class_loss: 0.7000 - val_sig_class_loss: 0.9786 - val_mod_class_accuracy: 0.7740 - val_sig_class_accuracy: 0.6287\n",
      "Epoch 2/10\n",
      "2821/2821 [==============================] - 104s 37ms/step - loss: 0.9027 - mod_class_loss: 0.6904 - sig_class_loss: 0.9557 - mod_class_accuracy: 0.7689 - sig_class_accuracy: 0.6365 - val_loss: 0.8946 - val_mod_class_loss: 0.6694 - val_sig_class_loss: 0.9509 - val_mod_class_accuracy: 0.7804 - val_sig_class_accuracy: 0.6397\n",
      "Epoch 3/10\n",
      "2821/2821 [==============================] - 98s 35ms/step - loss: 0.8752 - mod_class_loss: 0.6655 - sig_class_loss: 0.9276 - mod_class_accuracy: 0.7770 - sig_class_accuracy: 0.6461 - val_loss: 0.9199 - val_mod_class_loss: 0.6923 - val_sig_class_loss: 0.9767 - val_mod_class_accuracy: 0.7684 - val_sig_class_accuracy: 0.6322\n",
      "Epoch 4/10\n",
      "2821/2821 [==============================] - 92s 32ms/step - loss: 0.8543 - mod_class_loss: 0.6484 - sig_class_loss: 0.9057 - mod_class_accuracy: 0.7820 - sig_class_accuracy: 0.6554 - val_loss: 0.8834 - val_mod_class_loss: 0.6532 - val_sig_class_loss: 0.9410 - val_mod_class_accuracy: 0.7832 - val_sig_class_accuracy: 0.6434\n",
      "Epoch 5/10\n",
      "2821/2821 [==============================] - 91s 32ms/step - loss: 0.8342 - mod_class_loss: 0.6321 - sig_class_loss: 0.8847 - mod_class_accuracy: 0.7858 - sig_class_accuracy: 0.6644 - val_loss: 0.8760 - val_mod_class_loss: 0.6541 - val_sig_class_loss: 0.9315 - val_mod_class_accuracy: 0.7855 - val_sig_class_accuracy: 0.6440\n",
      "Epoch 6/10\n",
      "2821/2821 [==============================] - 91s 32ms/step - loss: 0.8117 - mod_class_loss: 0.6153 - sig_class_loss: 0.8608 - mod_class_accuracy: 0.7910 - sig_class_accuracy: 0.6747 - val_loss: 0.8909 - val_mod_class_loss: 0.6516 - val_sig_class_loss: 0.9507 - val_mod_class_accuracy: 0.7878 - val_sig_class_accuracy: 0.6438\n",
      "Epoch 7/10\n",
      "2821/2821 [==============================] - 92s 33ms/step - loss: 0.7834 - mod_class_loss: 0.5953 - sig_class_loss: 0.8304 - mod_class_accuracy: 0.7960 - sig_class_accuracy: 0.6886 - val_loss: 0.8758 - val_mod_class_loss: 0.6511 - val_sig_class_loss: 0.9320 - val_mod_class_accuracy: 0.7895 - val_sig_class_accuracy: 0.6449\n",
      "Epoch 8/10\n",
      "2821/2821 [==============================] - 93s 33ms/step - loss: 0.7465 - mod_class_loss: 0.5691 - sig_class_loss: 0.7909 - mod_class_accuracy: 0.8021 - sig_class_accuracy: 0.7056 - val_loss: 0.8890 - val_mod_class_loss: 0.6624 - val_sig_class_loss: 0.9456 - val_mod_class_accuracy: 0.7883 - val_sig_class_accuracy: 0.6442\n",
      "Epoch 9/10\n",
      "2821/2821 [==============================] - 94s 33ms/step - loss: 0.6971 - mod_class_loss: 0.5348 - sig_class_loss: 0.7376 - mod_class_accuracy: 0.8115 - sig_class_accuracy: 0.7285 - val_loss: 0.9340 - val_mod_class_loss: 0.6864 - val_sig_class_loss: 0.9959 - val_mod_class_accuracy: 0.7779 - val_sig_class_accuracy: 0.6404\n",
      "Epoch 10/10\n",
      "2821/2821 [==============================] - 94s 33ms/step - loss: 0.6335 - mod_class_loss: 0.4912 - sig_class_loss: 0.6690 - mod_class_accuracy: 0.8248 - sig_class_accuracy: 0.7573 - val_loss: 0.9778 - val_mod_class_loss: 0.7139 - val_sig_class_loss: 1.0438 - val_mod_class_accuracy: 0.7721 - val_sig_class_accuracy: 0.6400\n"
     ]
    }
   ],
   "source": [
    "#32-256-256\n",
    "\n",
    "iq_input = Input(shape=(16,16,1), dtype='float32', name = 'x_train')\n",
    "\n",
    "shared = layers.Conv2D(32, (4,4), activation = 'relu')(iq_input)\n",
    "shared = layers.MaxPooling2D(2,2)(shared)\n",
    "\n",
    "mod_predict = layers.Conv2D(256, (3,3), activation = 'relu')(shared)\n",
    "mod_predict = layers.Flatten()(mod_predict)\n",
    "mod_predict = layers.Dense(256, activation = 'relu')(mod_predict)\n",
    "mod_predict = layers.Dense(6, activation = 'softmax', name = 'mod_class')(mod_predict)\n",
    "\n",
    "sig_predict = layers.Conv2D(256, (3,3), activation = 'relu')(shared)\n",
    "sig_predict = layers.Flatten()(sig_predict)\n",
    "sig_predict = layers.Dense(256, activation = 'relu')(sig_predict)\n",
    "sig_predict = layers.Dense(8, activation = 'softmax', name = 'sig_class')(sig_predict)\n",
    "\n",
    "mtl_cnn = Model(iq_input, [mod_predict, sig_predict])\n",
    "\n",
    "mtl_cnn.compile(optimizer = 'nadam',  loss = ['categorical_crossentropy', 'categorical_crossentropy'], metrics = ['accuracy'], loss_weights = [.2, .8])\n",
    "\n",
    "mtl4 = mtl_cnn.fit(x_train, {'mod_class': mod_train, 'sig_class': sig_train}, epochs = 10, batch_size = 32, validation_split = .1)"
   ]
  },
  {
   "cell_type": "markdown",
   "id": "2d25b516",
   "metadata": {},
   "source": [
    "# \n",
    "# Visualizations"
   ]
  },
  {
   "cell_type": "code",
   "execution_count": 33,
   "id": "6820c316",
   "metadata": {},
   "outputs": [],
   "source": [
    "import matplotlib\n",
    "import matplotlib.pyplot as plt\n",
    "import seaborn\n",
    "\n",
    "from matplotlib.pyplot import figure"
   ]
  },
  {
   "cell_type": "markdown",
   "id": "3fa6c48f",
   "metadata": {},
   "source": [
    "### STL Modulation Classification Accuracy"
   ]
  },
  {
   "cell_type": "code",
   "execution_count": 59,
   "id": "f6e74e17",
   "metadata": {},
   "outputs": [
    {
     "data": {
      "image/png": "[encoded data removed]",
      "text/plain": [
       "<Figure size 432x288 with 1 Axes>"
      ]
     },
     "metadata": {
      "needs_background": "light"
     },
     "output_type": "display_data"
    }
   ],
   "source": [
    "# Plot STL Modulation Classification Accuracy\n",
    "\n",
    "plt.plot(mod_cnn.history['accuracy'])\n",
    "plt.plot(mod_cnn.history['val_accuracy'], '--')\n",
    "\n",
    "plt.title('STL Modulation Classification Accuracy')\n",
    "\n",
    "plt.ylabel('Accuracy')\n",
    "plt.xlabel('Epochs')\n",
    "\n",
    "y_ticks = np.arange(.55, .90, .05)\n",
    "plt.yticks(y_ticks)\n",
    "\n",
    "plt.grid()\n",
    "\n",
    "plt.legend(['Accuracy', 'Validation Accuracy'], loc='lower right')\n",
    "\n",
    "plt.show()"
   ]
  },
  {
   "cell_type": "markdown",
   "id": "2cc8b1b8",
   "metadata": {},
   "source": [
    "### STL Signal Classification Accuracy"
   ]
  },
  {
   "cell_type": "code",
   "execution_count": 58,
   "id": "d3cb37e4",
   "metadata": {},
   "outputs": [
    {
     "data": {
      "image/png": "[encoded data removed]",
      "text/plain": [
       "<Figure size 432x288 with 1 Axes>"
      ]
     },
     "metadata": {
      "needs_background": "light"
     },
     "output_type": "display_data"
    }
   ],
   "source": [
    "# Plot STL Signal Classification Accuracy\n",
    "\n",
    "plt.plot(sig_cnn.history['accuracy'])\n",
    "plt.plot(sig_cnn.history['val_accuracy'], '--')\n",
    "\n",
    "plt.title('STL Signal Classification Accuracy')\n",
    "\n",
    "plt.ylabel('Accuracy')\n",
    "plt.xlabel('Epochs')\n",
    "\n",
    "y_ticks = np.arange(.55, .90, .05)\n",
    "plt.yticks(y_ticks)\n",
    "\n",
    "plt.grid()\n",
    "\n",
    "plt.legend(['Accuracy', 'Validation Accuracy'], loc='lower right')\n",
    "\n",
    "plt.show()"
   ]
  },
  {
   "cell_type": "markdown",
   "id": "9a20290f",
   "metadata": {},
   "source": [
    "### MTL Modulation Classification Accuracy"
   ]
  },
  {
   "cell_type": "code",
   "execution_count": 53,
   "id": "642ce69e",
   "metadata": {},
   "outputs": [
    {
     "data": {
      "image/png": "[encoded data removed]",
      "text/plain": [
       "<Figure size 432x288 with 1 Axes>"
      ]
     },
     "metadata": {
      "needs_background": "light"
     },
     "output_type": "display_data"
    }
   ],
   "source": [
    "# Plot MTL Modulation Classification Accuracy\n",
    "\n",
    "plt.plot(mtl1.history['mod_class_accuracy'])\n",
    "plt.plot(mtl2.history['mod_class_accuracy'])\n",
    "plt.plot(mtl3.history['mod_class_accuracy'])\n",
    "plt.plot(mtl4.history['mod_class_accuracy'])\n",
    "\n",
    "plt.title('MTL Modulation Classification Accuracy Comparisons')\n",
    "\n",
    "plt.legend(['MTL-1 (32-32-256)', \n",
    "            'MTL-2 (32-64-256)', \n",
    "            'MTL-3 (32-128-256)',\n",
    "            'MTL-4 (32-256-256)'], loc='lower right')\n",
    " \n",
    "\n",
    "plt.ylabel('Accuracy')\n",
    "plt.xlabel('Epochs')\n",
    "\n",
    "y_ticks = np.arange(.55, .90, .05)\n",
    "plt.yticks(y_ticks)\n",
    "\n",
    "plt.grid()\n",
    "\n",
    "plt.show()\n"
   ]
  },
  {
   "cell_type": "markdown",
   "id": "d1c89e21",
   "metadata": {},
   "source": [
    "### MTL Signal Classification Accuracy"
   ]
  },
  {
   "cell_type": "code",
   "execution_count": 52,
   "id": "442e9feb",
   "metadata": {},
   "outputs": [
    {
     "data": {
      "image/png": "[encoded data removed]",
      "text/plain": [
       "<Figure size 432x288 with 1 Axes>"
      ]
     },
     "metadata": {
      "needs_background": "light"
     },
     "output_type": "display_data"
    }
   ],
   "source": [
    "# Plot MTL Signal Classification Accuracy\n",
    "\n",
    "plt.plot(mtl1.history['sig_class_accuracy'])\n",
    "plt.plot(mtl2.history['sig_class_accuracy'])\n",
    "plt.plot(mtl3.history['sig_class_accuracy'])\n",
    "plt.plot(mtl4.history['sig_class_accuracy'])\n",
    "\n",
    "\n",
    "plt.title('MTL Signal Classification Accuracy Comparisons')\n",
    "\n",
    "plt.legend(['MTL-1 (32-32-256)', \n",
    "            'MTL-2 (32-64-256)', \n",
    "            'MTL-3 (32-128-256)',\n",
    "            'MTL-4 (32-256-256)'], loc='lower right')\n",
    " \n",
    "y_ticks = np.arange(.55, .90, .05)\n",
    "plt.yticks(y_ticks)\n",
    "\n",
    "plt.ylabel('Accuracy')\n",
    "plt.xlabel('Epochs')\n",
    "\n",
    "plt.grid()\n",
    "\n",
    "plt.show()\n"
   ]
  },
  {
   "cell_type": "markdown",
   "id": "09509a2d",
   "metadata": {},
   "source": [
    "### MTL-4 Modulation Classification Accuracy"
   ]
  },
  {
   "cell_type": "code",
   "execution_count": 57,
   "id": "acf727fe",
   "metadata": {},
   "outputs": [
    {
     "data": {
      "image/png": "[encoded data removed]",
      "text/plain": [
       "<Figure size 432x288 with 1 Axes>"
      ]
     },
     "metadata": {
      "needs_background": "light"
     },
     "output_type": "display_data"
    }
   ],
   "source": [
    "# Plot MTL4 Modulation Classification Accuracy\n",
    "\n",
    "plt.plot(mtl4.history['mod_class_accuracy'])\n",
    "plt.plot(mtl4.history['val_mod_class_accuracy'], '--')\n",
    "\n",
    "plt.title('MTL-4 Modulation Classification Accuracy')\n",
    "\n",
    "plt.ylabel('Accuracy')\n",
    "plt.xlabel('Epochs')\n",
    "\n",
    "y_ticks = np.arange(.55, .90, .05)\n",
    "plt.yticks(y_ticks)\n",
    "\n",
    "plt.grid()\n",
    "\n",
    "plt.legend(['Accuracy', 'Validation Accuracy'], loc='lower right')\n",
    "\n",
    "plt.show()"
   ]
  },
  {
   "cell_type": "markdown",
   "id": "7203b31d",
   "metadata": {},
   "source": [
    "### MTL-4 Signal Classification Accuracy"
   ]
  },
  {
   "cell_type": "code",
   "execution_count": 56,
   "id": "029298ed",
   "metadata": {},
   "outputs": [
    {
     "data": {
      "image/png": "[encoded data removed]",
      "text/plain": [
       "<Figure size 432x288 with 1 Axes>"
      ]
     },
     "metadata": {
      "needs_background": "light"
     },
     "output_type": "display_data"
    }
   ],
   "source": [
    "# Plot MTL4 Signal Classification Accuracy\n",
    "\n",
    "plt.plot(mtl4.history['sig_class_accuracy'])\n",
    "plt.plot(mtl4.history['val_sig_class_accuracy'], '--')\n",
    "\n",
    "plt.title('MTL-4 Signal Classification Accuracy')\n",
    "\n",
    "plt.ylabel('Accuracy')\n",
    "plt.xlabel('Epochs')\n",
    "\n",
    "y_ticks = np.arange(.55, .90, .05)\n",
    "plt.yticks(y_ticks)\n",
    "\n",
    "plt.grid()\n",
    "\n",
    "plt.legend(['Accuracy', 'Validation Accuracy'], loc='upper left')\n",
    "\n",
    "plt.show()"
   ]
  },
  {
   "cell_type": "markdown",
   "id": "447bbc07",
   "metadata": {},
   "source": [
    "### MTL-4 SNR Ranges"
   ]
  },
  {
   "cell_type": "code",
   "execution_count": null,
   "id": "4c0229ef",
   "metadata": {},
   "outputs": [],
   "source": [
    "# Plot MTL Model 4 Accuracy Across Various SNR Ranges\n",
    "\n",
    "mtl_snr = pd.DataFrame(pd.read_csv('C:/Users/cg/Desktop/mtl_snr4.csv'))\n",
    "\n",
    "plt.plot(mtl_snr['mod_class_accuracy'], 'o')\n",
    "plt.plot(mtl_snr['sig_class_accuracy'], 'o')\n",
    "\n",
    "plt.title('MTL-4 Classification Accuracy Across Various SNR Ranges')\n",
    "\n",
    "plt.ylabel('Accuracy')\n",
    "plt.xlabel('SNR Range')\n",
    "\n",
    "plt.grid()\n",
    "\n",
    "plt.xticks(range(len(mtl_snr)), mtl_snr['snr'])\n",
    "plt.xticks(rotation=45)\n",
    "\n",
    "#y_ticks = np.arange(0, 1, .1)\n",
    "#plt.yticks(y_ticks)\n",
    "\n",
    "plt.legend(['Modulation Classification',\n",
    "            'Signal Classification'], loc='lower right')\n",
    "\n",
    "plt.show()"
   ]
  },
  {
   "cell_type": "code",
   "execution_count": null,
   "id": "12ff6cd9",
   "metadata": {},
   "outputs": [],
   "source": []
  },
  {
   "cell_type": "code",
   "execution_count": null,
   "id": "90651c7b",
   "metadata": {},
   "outputs": [],
   "source": []
  },
  {
   "cell_type": "code",
   "execution_count": null,
   "id": "3d941d34",
   "metadata": {},
   "outputs": [],
   "source": []
  },
  {
   "cell_type": "markdown",
   "id": "3525c6dd",
   "metadata": {},
   "source": [
    "### STL Modulation Classification Loss"
   ]
  },
  {
   "cell_type": "raw",
   "id": "364d7244",
   "metadata": {},
   "source": [
    "# Plot STL Modulation Classification Loss\n",
    "\n",
    "plt.plot(mod_cnn.history['loss'])\n",
    "plt.plot(mod_cnn.history['val_loss'], '--')\n",
    "\n",
    "plt.ylabel('Loss')\n",
    "plt.xlabel('Epochs')\n",
    "\n",
    "plt.grid()\n",
    "\n",
    "plt.legend(['Loss', 'Validation Loss'], loc='upper right')\n",
    "\n",
    "plt.show()"
   ]
  },
  {
   "cell_type": "markdown",
   "id": "35fad70d",
   "metadata": {},
   "source": [
    "### STL Signal Classification Loss"
   ]
  },
  {
   "cell_type": "raw",
   "id": "6759c978",
   "metadata": {},
   "source": [
    "# Plot STL Signal Classification Loss\n",
    "\n",
    "plt.plot(sig_cnn.history['loss'])\n",
    "plt.plot(sig_cnn.history['val_loss'], '--')\n",
    "\n",
    "plt.ylabel('Loss')\n",
    "plt.xlabel('Epochs')\n",
    "\n",
    "plt.grid()\n",
    "\n",
    "plt.legend(['Loss', 'Validation Loss'], loc='upper right')\n",
    "\n",
    "plt.show()"
   ]
  },
  {
   "cell_type": "markdown",
   "id": "8f98ec25",
   "metadata": {},
   "source": [
    "### MTL Modulation Classification Loss"
   ]
  },
  {
   "cell_type": "raw",
   "id": "f5e71529",
   "metadata": {},
   "source": [
    "# Plot MTL Signal Classification Loss\n",
    "\n",
    "plt.plot(mtl1.history['mod_class_loss'])\n",
    "plt.plot(mtl2.history['mod_class_loss'])\n",
    "plt.plot(mtl3.history['mod_class_loss'])\n",
    "plt.plot(mtl4.history['mod_class_loss'])\n",
    "\n",
    "plt.legend(['MTL-1 (32-32-256)', \n",
    "            'MTL-2 (32-64-256)', \n",
    "            'MTL-3 (32-128-256)',\n",
    "            'MTL-4 (32-256-256)'], loc='upper right')\n",
    " \n",
    "\n",
    "plt.ylabel('Loss')\n",
    "plt.xlabel('Epochs')\n",
    "\n",
    "plt.grid()\n",
    "\n",
    "plt.show()"
   ]
  },
  {
   "cell_type": "markdown",
   "id": "75dd1c26",
   "metadata": {},
   "source": [
    "### MTL Signal Classification Loss"
   ]
  },
  {
   "cell_type": "raw",
   "id": "42e3715c",
   "metadata": {},
   "source": [
    "# Plot MTL Signal Classification Loss\n",
    "\n",
    "plt.plot(mtl1.history['sig_class_loss'])\n",
    "plt.plot(mtl2.history['sig_class_loss'])\n",
    "plt.plot(mtl3.history['sig_class_loss'])\n",
    "plt.plot(mtl4.history['sig_class_loss'])\n",
    "\n",
    "\n",
    "plt.legend(['MTL-1 (32-32-256)', \n",
    "            'MTL-2 (32-64-256)', \n",
    "            'MTL-3 (32-128-256)',\n",
    "            'MTL-4 (32-256-256)'], loc='upper right')\n",
    " \n",
    "\n",
    "plt.ylabel('Loss')\n",
    "plt.xlabel('Epochs')\n",
    "\n",
    "plt.grid()\n",
    "\n",
    "plt.show()\n"
   ]
  },
  {
   "cell_type": "markdown",
   "id": "9110ed18",
   "metadata": {},
   "source": [
    "### MTL-4 Modulation Classification Loss"
   ]
  },
  {
   "cell_type": "raw",
   "id": "588bfed8",
   "metadata": {},
   "source": [
    "# Plot MTL4 Modulation Classification Loss\n",
    "\n",
    "plt.plot(mtl4.history['mod_class_loss'])\n",
    "plt.plot(mtl4.history['val_mod_class_loss'], '--')\n",
    "\n",
    "plt.ylabel('Loss')\n",
    "plt.xlabel('Epochs')\n",
    "\n",
    "plt.grid()\n",
    "\n",
    "plt.legend(['Loss', 'Validation Loss'], loc='upper left')\n",
    "\n",
    "plt.show()"
   ]
  },
  {
   "cell_type": "markdown",
   "id": "5b678612",
   "metadata": {},
   "source": [
    "### MTL-4 Signal Classification Loss"
   ]
  },
  {
   "cell_type": "raw",
   "id": "09b754c5",
   "metadata": {},
   "source": [
    "# Plot MTL4 Signal Classification Loss\n",
    "\n",
    "plt.plot(mtl4.history['sig_class_loss'])\n",
    "plt.plot(mtl4.history['val_sig_class_loss'], '--')\n",
    "\n",
    "plt.ylabel('Loss')\n",
    "plt.xlabel('Epochs')\n",
    "\n",
    "plt.grid()\n",
    "\n",
    "plt.legend(['Loss', 'Validation Loss'], loc='upper left')\n",
    "\n",
    "plt.show()"
   ]
  },
  {
   "cell_type": "raw",
   "id": "1b7bcb28",
   "metadata": {},
   "source": [
    "# Joint STL Modulation & Signal Classification Accuracy\n",
    "\n",
    "plt.plot(mod_cnn.history['accuracy'])\n",
    "plt.plot(mod_cnn.history['val_accuracy'], '--')\n",
    "plt.plot(sig_cnn.history['accuracy'])\n",
    "plt.plot(sig_cnn.history['val_accuracy'], '--')\n",
    "\n",
    "plt.title('STL Modulation & Classification Accuracy')\n",
    "\n",
    "plt.ylabel('Accuracy')\n",
    "plt.xlabel('Epochs')\n",
    "\n",
    "\n",
    "plt.grid()\n",
    "\n",
    "plt.legend(['Mod Acc', 'Mod ValAcc', 'Sig Acc', 'Sig ValAcc'], loc='lower right')\n",
    "\n",
    "plt.show()"
   ]
  },
  {
   "cell_type": "markdown",
   "id": "2d65b162",
   "metadata": {},
   "source": [
    "# STOP"
   ]
  },
  {
   "cell_type": "raw",
   "id": "f991e8b9",
   "metadata": {},
   "source": [
    "To generate an image, open up a Jupyter terminal and type:\n",
    "\n",
    "python visualize.py -num ### -snr ## -mod XXX -sig XXX"
   ]
  }
 ],
 "metadata": {
  "kernelspec": {
   "display_name": "Python 3",
   "language": "python",
   "name": "python3"
  },
  "language_info": {
   "codemirror_mode": {
    "name": "ipython",
    "version": 3
   },
   "file_extension": ".py",
   "mimetype": "text/x-python",
   "name": "python",
   "nbconvert_exporter": "python",
   "pygments_lexer": "ipython3",
   "version": "3.7.11"
  }
 },
 "nbformat": 4,
 "nbformat_minor": 5
}
